{
 "cells": [
  {
   "cell_type": "markdown",
   "metadata": {},
   "source": [
    "# Exercise 2: Normalizing the Data (Simplified)\n",
    "\n",
    "* DS 6001\n",
    "* Raf Alvarado\n",
    "* 16 October 2019"
   ]
  },
  {
   "cell_type": "markdown",
   "metadata": {},
   "source": [
    "# Overview\n",
    "\n",
    "In this exercise, we split the raw table into tables corresponding the **implied subjects** we discovered. Then we use joins to reassemble the data. Recall that we noticed ARTIST, GENRE, ALBUM, and REVIEW.\n",
    "\n",
    "To do this, we use Pandas to store the initial table as a dataframe, and then we create variations of that dataframe and save those to the database as new tables. "
   ]
  },
  {
   "cell_type": "markdown",
   "metadata": {},
   "source": [
    "# Implied Subjects (E-R  Diagram)\n",
    "\n",
    "The data looks good. Let's say we are going to be building a data product around albums and reviews, and we want to use Pitchfork data as one component of the's data. In using these data, we should find the **implied subjects** in the dataframe and create separate tables to use as placeholders for more information.\n",
    "\n",
    "What are the implied subjects? ALBUM, ARTIST, GENRE, and REVIEW.\n",
    "\n",
    "If we were to create a full blown database, we might create something like this:\n",
    "\n",
    "<img src=\"er2.png\" style=\"height:400px;\"/>\n",
    "\n",
    "<h1>FIX THIS<?h1>"
   ]
  },
  {
   "cell_type": "code",
   "execution_count": 1,
   "metadata": {},
   "outputs": [],
   "source": [
    "import sqlite3\n",
    "import pandas as pd\n",
    "%matplotlib inline"
   ]
  },
  {
   "cell_type": "markdown",
   "metadata": {},
   "source": [
    "# Connect to the database"
   ]
  },
  {
   "cell_type": "code",
   "execution_count": 2,
   "metadata": {},
   "outputs": [],
   "source": [
    "db = sqlite3.connect('../Lesson_1/pitchfork.db')"
   ]
  },
  {
   "cell_type": "markdown",
   "metadata": {},
   "source": [
    "# Define convenience function"
   ]
  },
  {
   "cell_type": "code",
   "execution_count": 3,
   "metadata": {},
   "outputs": [],
   "source": [
    "def q(sql=\"\", params=(), db=db):\n",
    "    df =  pd.read_sql_query(sql, db, params=params)\n",
    "    return df"
   ]
  },
  {
   "cell_type": "markdown",
   "metadata": {},
   "source": [
    "# Get the raw review table\n",
    "\n",
    "Get the review data, but don't import the records where there is no album title given. (I noticed that some titles were missing when playing with the data in SQLiteStudio.)"
   ]
  },
  {
   "cell_type": "code",
   "execution_count": 4,
   "metadata": {},
   "outputs": [],
   "source": [
    "sql_raw = \"\"\"\n",
    "SELECT * \n",
    "FROM review_raw \n",
    "WHERE album IS NOT NULL\n",
    "\"\"\"\n",
    "raw = q(sql_raw).set_index('id')"
   ]
  },
  {
   "cell_type": "code",
   "execution_count": 5,
   "metadata": {},
   "outputs": [
    {
     "data": {
      "text/html": [
       "<div>\n",
       "<style scoped>\n",
       "    .dataframe tbody tr th:only-of-type {\n",
       "        vertical-align: middle;\n",
       "    }\n",
       "\n",
       "    .dataframe tbody tr th {\n",
       "        vertical-align: top;\n",
       "    }\n",
       "\n",
       "    .dataframe thead th {\n",
       "        text-align: right;\n",
       "    }\n",
       "</style>\n",
       "<table border=\"1\" class=\"dataframe\">\n",
       "  <thead>\n",
       "    <tr style=\"text-align: right;\">\n",
       "      <th></th>\n",
       "      <th>album</th>\n",
       "      <th>artist</th>\n",
       "      <th>best</th>\n",
       "      <th>date</th>\n",
       "      <th>genre</th>\n",
       "      <th>review</th>\n",
       "      <th>score</th>\n",
       "    </tr>\n",
       "    <tr>\n",
       "      <th>id</th>\n",
       "      <th></th>\n",
       "      <th></th>\n",
       "      <th></th>\n",
       "      <th></th>\n",
       "      <th></th>\n",
       "      <th></th>\n",
       "      <th></th>\n",
       "    </tr>\n",
       "  </thead>\n",
       "  <tbody>\n",
       "    <tr>\n",
       "      <th>1</th>\n",
       "      <td>A.M./Being There</td>\n",
       "      <td>Wilco</td>\n",
       "      <td>1</td>\n",
       "      <td>December 6 2017</td>\n",
       "      <td>Rock</td>\n",
       "      <td>Best new reissue 1 / 2 Albums Newly reissued a...</td>\n",
       "      <td>7.0</td>\n",
       "    </tr>\n",
       "    <tr>\n",
       "      <th>2</th>\n",
       "      <td>No Shame</td>\n",
       "      <td>Hopsin</td>\n",
       "      <td>0</td>\n",
       "      <td>December 6 2017</td>\n",
       "      <td>Rap</td>\n",
       "      <td>On his corrosive fifth album, the rapper takes...</td>\n",
       "      <td>3.5</td>\n",
       "    </tr>\n",
       "    <tr>\n",
       "      <th>3</th>\n",
       "      <td>Material Control</td>\n",
       "      <td>Glassjaw</td>\n",
       "      <td>0</td>\n",
       "      <td>December 6 2017</td>\n",
       "      <td>Rock</td>\n",
       "      <td>On their first album in 15 years, the Long Isl...</td>\n",
       "      <td>6.6</td>\n",
       "    </tr>\n",
       "    <tr>\n",
       "      <th>4</th>\n",
       "      <td>Weighing of the Heart</td>\n",
       "      <td>Nabihah Iqbal</td>\n",
       "      <td>0</td>\n",
       "      <td>December 6 2017</td>\n",
       "      <td>Pop/R&amp;B</td>\n",
       "      <td>On her debut LP, British producer Nabihah Iqba...</td>\n",
       "      <td>7.7</td>\n",
       "    </tr>\n",
       "    <tr>\n",
       "      <th>5</th>\n",
       "      <td>The Visitor</td>\n",
       "      <td>Neil Young / Promise of the Real</td>\n",
       "      <td>0</td>\n",
       "      <td>December 5 2017</td>\n",
       "      <td>Rock</td>\n",
       "      <td>While still pointedly political, Neil Youngís ...</td>\n",
       "      <td>6.7</td>\n",
       "    </tr>\n",
       "  </tbody>\n",
       "</table>\n",
       "</div>"
      ],
      "text/plain": [
       "                    album                            artist  best  \\\n",
       "id                                                                  \n",
       "1        A.M./Being There                             Wilco     1   \n",
       "2                No Shame                            Hopsin     0   \n",
       "3        Material Control                          Glassjaw     0   \n",
       "4   Weighing of the Heart                     Nabihah Iqbal     0   \n",
       "5             The Visitor  Neil Young / Promise of the Real     0   \n",
       "\n",
       "               date    genre  \\\n",
       "id                             \n",
       "1   December 6 2017     Rock   \n",
       "2   December 6 2017      Rap   \n",
       "3   December 6 2017     Rock   \n",
       "4   December 6 2017  Pop/R&B   \n",
       "5   December 5 2017     Rock   \n",
       "\n",
       "                                               review  score  \n",
       "id                                                            \n",
       "1   Best new reissue 1 / 2 Albums Newly reissued a...    7.0  \n",
       "2   On his corrosive fifth album, the rapper takes...    3.5  \n",
       "3   On their first album in 15 years, the Long Isl...    6.6  \n",
       "4   On her debut LP, British producer Nabihah Iqba...    7.7  \n",
       "5   While still pointedly political, Neil Youngís ...    6.7  "
      ]
     },
     "execution_count": 5,
     "metadata": {},
     "output_type": "execute_result"
    }
   ],
   "source": [
    "raw.head()"
   ]
  },
  {
   "cell_type": "code",
   "execution_count": 6,
   "metadata": {},
   "outputs": [
    {
     "data": {
      "text/plain": [
       "(19550, 7)"
      ]
     },
     "execution_count": 6,
     "metadata": {},
     "output_type": "execute_result"
    }
   ],
   "source": [
    "raw.shape"
   ]
  },
  {
   "cell_type": "markdown",
   "metadata": {
    "toc-hr-collapsed": false
   },
   "source": [
    "# Create implied subject tables"
   ]
  },
  {
   "cell_type": "markdown",
   "metadata": {
    "toc-hr-collapsed": true
   },
   "source": [
    "## The `artist` table\n",
    "\n",
    "We get the unique artist names and save them to a new dataframe, and change the column name and the index name in the process so that we have well-named columns in our table. "
   ]
  },
  {
   "cell_type": "code",
   "execution_count": 7,
   "metadata": {},
   "outputs": [],
   "source": [
    "sql_artists = \"\"\"\n",
    "SELECT artist AS artist_name, count() AS n_reviews \n",
    "FROM review_raw\n",
    "GROUP BY artist\n",
    "\"\"\"\n",
    "artists = q(sql_artists)\n",
    "# artists.index.name = 'artist_id'"
   ]
  },
  {
   "cell_type": "code",
   "execution_count": 8,
   "metadata": {},
   "outputs": [
    {
     "data": {
      "text/html": [
       "<div>\n",
       "<style scoped>\n",
       "    .dataframe tbody tr th:only-of-type {\n",
       "        vertical-align: middle;\n",
       "    }\n",
       "\n",
       "    .dataframe tbody tr th {\n",
       "        vertical-align: top;\n",
       "    }\n",
       "\n",
       "    .dataframe thead th {\n",
       "        text-align: right;\n",
       "    }\n",
       "</style>\n",
       "<table border=\"1\" class=\"dataframe\">\n",
       "  <thead>\n",
       "    <tr style=\"text-align: right;\">\n",
       "      <th></th>\n",
       "      <th>artist_name</th>\n",
       "      <th>n_reviews</th>\n",
       "    </tr>\n",
       "  </thead>\n",
       "  <tbody>\n",
       "    <tr>\n",
       "      <th>0</th>\n",
       "      <td>!!!</td>\n",
       "      <td>7</td>\n",
       "    </tr>\n",
       "    <tr>\n",
       "      <th>1</th>\n",
       "      <td>!!! / Out Hud</td>\n",
       "      <td>1</td>\n",
       "    </tr>\n",
       "    <tr>\n",
       "      <th>2</th>\n",
       "      <td>(Sandy) Alex G</td>\n",
       "      <td>1</td>\n",
       "    </tr>\n",
       "    <tr>\n",
       "      <th>3</th>\n",
       "      <td>+/-</td>\n",
       "      <td>6</td>\n",
       "    </tr>\n",
       "    <tr>\n",
       "      <th>4</th>\n",
       "      <td>...And You Will Know Us by the Trail of Dead</td>\n",
       "      <td>10</td>\n",
       "    </tr>\n",
       "  </tbody>\n",
       "</table>\n",
       "</div>"
      ],
      "text/plain": [
       "                                    artist_name  n_reviews\n",
       "0                                           !!!          7\n",
       "1                                 !!! / Out Hud          1\n",
       "2                                (Sandy) Alex G          1\n",
       "3                                           +/-          6\n",
       "4  ...And You Will Know Us by the Trail of Dead         10"
      ]
     },
     "execution_count": 8,
     "metadata": {},
     "output_type": "execute_result"
    }
   ],
   "source": [
    "artists.head()"
   ]
  },
  {
   "cell_type": "code",
   "execution_count": 9,
   "metadata": {},
   "outputs": [],
   "source": [
    "artists.to_sql('artist', db, index=False, if_exists='replace')"
   ]
  },
  {
   "cell_type": "markdown",
   "metadata": {},
   "source": [
    "## The `genre` table"
   ]
  },
  {
   "cell_type": "code",
   "execution_count": 10,
   "metadata": {},
   "outputs": [],
   "source": [
    "sql_genre = \"\"\"\n",
    "SELECT genre AS genre_name, count() AS n_reviews\n",
    "FROM review_raw\n",
    "GROUP BY genre\n",
    "\"\"\"\n",
    "genres = q(sql_genre)\n",
    "# genres.index.name = 'genre_id'"
   ]
  },
  {
   "cell_type": "code",
   "execution_count": 11,
   "metadata": {},
   "outputs": [
    {
     "data": {
      "text/html": [
       "<div>\n",
       "<style scoped>\n",
       "    .dataframe tbody tr th:only-of-type {\n",
       "        vertical-align: middle;\n",
       "    }\n",
       "\n",
       "    .dataframe tbody tr th {\n",
       "        vertical-align: top;\n",
       "    }\n",
       "\n",
       "    .dataframe thead th {\n",
       "        text-align: right;\n",
       "    }\n",
       "</style>\n",
       "<table border=\"1\" class=\"dataframe\">\n",
       "  <thead>\n",
       "    <tr style=\"text-align: right;\">\n",
       "      <th></th>\n",
       "      <th>genre_name</th>\n",
       "      <th>n_reviews</th>\n",
       "    </tr>\n",
       "  </thead>\n",
       "  <tbody>\n",
       "    <tr>\n",
       "      <th>0</th>\n",
       "      <td>Electronic</td>\n",
       "      <td>4020</td>\n",
       "    </tr>\n",
       "    <tr>\n",
       "      <th>1</th>\n",
       "      <td>Experimental</td>\n",
       "      <td>1699</td>\n",
       "    </tr>\n",
       "    <tr>\n",
       "      <th>2</th>\n",
       "      <td>Folk/Country</td>\n",
       "      <td>700</td>\n",
       "    </tr>\n",
       "    <tr>\n",
       "      <th>3</th>\n",
       "      <td>Global</td>\n",
       "      <td>178</td>\n",
       "    </tr>\n",
       "    <tr>\n",
       "      <th>4</th>\n",
       "      <td>Jazz</td>\n",
       "      <td>257</td>\n",
       "    </tr>\n",
       "  </tbody>\n",
       "</table>\n",
       "</div>"
      ],
      "text/plain": [
       "     genre_name  n_reviews\n",
       "0    Electronic       4020\n",
       "1  Experimental       1699\n",
       "2  Folk/Country        700\n",
       "3        Global        178\n",
       "4          Jazz        257"
      ]
     },
     "execution_count": 11,
     "metadata": {},
     "output_type": "execute_result"
    }
   ],
   "source": [
    "genres.head()"
   ]
  },
  {
   "cell_type": "code",
   "execution_count": 12,
   "metadata": {},
   "outputs": [],
   "source": [
    "genres.to_sql('genre', db, index=False, if_exists='replace')"
   ]
  },
  {
   "cell_type": "markdown",
   "metadata": {},
   "source": [
    "## The `album` table"
   ]
  },
  {
   "cell_type": "code",
   "execution_count": 13,
   "metadata": {},
   "outputs": [],
   "source": [
    "sql_albums = \"\"\"\n",
    "SELECT album AS album_name, artist AS artist_name, best AS is_best, genre AS genre_name, count() AS n_reviews\n",
    "FROM review_raw\n",
    "GROUP BY album, artist -- NOTE KEY \n",
    "\"\"\"\n",
    "albums = q(sql_albums)\n",
    "# albums.index.name = 'album_id'"
   ]
  },
  {
   "cell_type": "code",
   "execution_count": 14,
   "metadata": {},
   "outputs": [
    {
     "data": {
      "text/html": [
       "<div>\n",
       "<style scoped>\n",
       "    .dataframe tbody tr th:only-of-type {\n",
       "        vertical-align: middle;\n",
       "    }\n",
       "\n",
       "    .dataframe tbody tr th {\n",
       "        vertical-align: top;\n",
       "    }\n",
       "\n",
       "    .dataframe thead th {\n",
       "        text-align: right;\n",
       "    }\n",
       "</style>\n",
       "<table border=\"1\" class=\"dataframe\">\n",
       "  <thead>\n",
       "    <tr style=\"text-align: right;\">\n",
       "      <th></th>\n",
       "      <th>album_name</th>\n",
       "      <th>artist_name</th>\n",
       "      <th>is_best</th>\n",
       "      <th>genre_name</th>\n",
       "      <th>n_reviews</th>\n",
       "    </tr>\n",
       "  </thead>\n",
       "  <tbody>\n",
       "    <tr>\n",
       "      <th>0</th>\n",
       "      <td>None</td>\n",
       "      <td>Gord Downie</td>\n",
       "      <td>0</td>\n",
       "      <td>Rock</td>\n",
       "      <td>1</td>\n",
       "    </tr>\n",
       "    <tr>\n",
       "      <th>1</th>\n",
       "      <td>None</td>\n",
       "      <td>Inverloch</td>\n",
       "      <td>0</td>\n",
       "      <td>None</td>\n",
       "      <td>1</td>\n",
       "    </tr>\n",
       "    <tr>\n",
       "      <th>2</th>\n",
       "      <td>None</td>\n",
       "      <td>Lee Ranaldo</td>\n",
       "      <td>0</td>\n",
       "      <td>Experimental</td>\n",
       "      <td>1</td>\n",
       "    </tr>\n",
       "    <tr>\n",
       "      <th>3</th>\n",
       "      <td>None</td>\n",
       "      <td>Queens of the Stone Age</td>\n",
       "      <td>0</td>\n",
       "      <td>Rock</td>\n",
       "      <td>1</td>\n",
       "    </tr>\n",
       "    <tr>\n",
       "      <th>4</th>\n",
       "      <td>None</td>\n",
       "      <td>Yves Tumor</td>\n",
       "      <td>0</td>\n",
       "      <td>Experimental</td>\n",
       "      <td>1</td>\n",
       "    </tr>\n",
       "    <tr>\n",
       "      <th>5</th>\n",
       "      <td>\"Cassette\" EP</td>\n",
       "      <td>Viet Cong</td>\n",
       "      <td>0</td>\n",
       "      <td>Rock</td>\n",
       "      <td>1</td>\n",
       "    </tr>\n",
       "    <tr>\n",
       "      <th>6</th>\n",
       "      <td>\"Couples\"</td>\n",
       "      <td>The Long Blondes</td>\n",
       "      <td>0</td>\n",
       "      <td>Electronic</td>\n",
       "      <td>1</td>\n",
       "    </tr>\n",
       "    <tr>\n",
       "      <th>7</th>\n",
       "      <td>\"Evidence\" 12\"</td>\n",
       "      <td>Carlos Giffoni</td>\n",
       "      <td>0</td>\n",
       "      <td>Experimental</td>\n",
       "      <td>1</td>\n",
       "    </tr>\n",
       "    <tr>\n",
       "      <th>8</th>\n",
       "      <td>\"Fantasy Live 1999\"</td>\n",
       "      <td>Tokyo Black Star</td>\n",
       "      <td>0</td>\n",
       "      <td>Electronic</td>\n",
       "      <td>1</td>\n",
       "    </tr>\n",
       "    <tr>\n",
       "      <th>9</th>\n",
       "      <td>\"Free Gold!\"</td>\n",
       "      <td>Indian Jewelry</td>\n",
       "      <td>0</td>\n",
       "      <td>Experimental</td>\n",
       "      <td>1</td>\n",
       "    </tr>\n",
       "  </tbody>\n",
       "</table>\n",
       "</div>"
      ],
      "text/plain": [
       "            album_name              artist_name  is_best    genre_name  \\\n",
       "0                 None              Gord Downie        0          Rock   \n",
       "1                 None                Inverloch        0          None   \n",
       "2                 None              Lee Ranaldo        0  Experimental   \n",
       "3                 None  Queens of the Stone Age        0          Rock   \n",
       "4                 None               Yves Tumor        0  Experimental   \n",
       "5        \"Cassette\" EP                Viet Cong        0          Rock   \n",
       "6            \"Couples\"         The Long Blondes        0    Electronic   \n",
       "7       \"Evidence\" 12\"           Carlos Giffoni        0  Experimental   \n",
       "8  \"Fantasy Live 1999\"         Tokyo Black Star        0    Electronic   \n",
       "9         \"Free Gold!\"           Indian Jewelry        0  Experimental   \n",
       "\n",
       "   n_reviews  \n",
       "0          1  \n",
       "1          1  \n",
       "2          1  \n",
       "3          1  \n",
       "4          1  \n",
       "5          1  \n",
       "6          1  \n",
       "7          1  \n",
       "8          1  \n",
       "9          1  "
      ]
     },
     "execution_count": 14,
     "metadata": {},
     "output_type": "execute_result"
    }
   ],
   "source": [
    "albums.head(10)"
   ]
  },
  {
   "cell_type": "code",
   "execution_count": 15,
   "metadata": {},
   "outputs": [],
   "source": [
    "albums.to_sql('album', db, index=False, if_exists='replace')"
   ]
  },
  {
   "cell_type": "markdown",
   "metadata": {},
   "source": [
    "## The `review` table"
   ]
  },
  {
   "cell_type": "code",
   "execution_count": 16,
   "metadata": {},
   "outputs": [],
   "source": [
    "sql_reviews = \"\"\"\n",
    "SELECT DISTINCT id AS review_id, album AS album_name, artist AS artist_name, \n",
    "    date AS review_date, review AS review_content, score AS album_score\n",
    "FROM review_raw\n",
    "\"\"\"\n",
    "reviews = q(sql_reviews)"
   ]
  },
  {
   "cell_type": "code",
   "execution_count": 17,
   "metadata": {},
   "outputs": [
    {
     "data": {
      "text/html": [
       "<div>\n",
       "<style scoped>\n",
       "    .dataframe tbody tr th:only-of-type {\n",
       "        vertical-align: middle;\n",
       "    }\n",
       "\n",
       "    .dataframe tbody tr th {\n",
       "        vertical-align: top;\n",
       "    }\n",
       "\n",
       "    .dataframe thead th {\n",
       "        text-align: right;\n",
       "    }\n",
       "</style>\n",
       "<table border=\"1\" class=\"dataframe\">\n",
       "  <thead>\n",
       "    <tr style=\"text-align: right;\">\n",
       "      <th></th>\n",
       "      <th>review_id</th>\n",
       "      <th>album_name</th>\n",
       "      <th>artist_name</th>\n",
       "      <th>review_date</th>\n",
       "      <th>review_content</th>\n",
       "      <th>album_score</th>\n",
       "    </tr>\n",
       "  </thead>\n",
       "  <tbody>\n",
       "    <tr>\n",
       "      <th>0</th>\n",
       "      <td>1</td>\n",
       "      <td>A.M./Being There</td>\n",
       "      <td>Wilco</td>\n",
       "      <td>December 6 2017</td>\n",
       "      <td>Best new reissue 1 / 2 Albums Newly reissued a...</td>\n",
       "      <td>7.0</td>\n",
       "    </tr>\n",
       "    <tr>\n",
       "      <th>1</th>\n",
       "      <td>2</td>\n",
       "      <td>No Shame</td>\n",
       "      <td>Hopsin</td>\n",
       "      <td>December 6 2017</td>\n",
       "      <td>On his corrosive fifth album, the rapper takes...</td>\n",
       "      <td>3.5</td>\n",
       "    </tr>\n",
       "    <tr>\n",
       "      <th>2</th>\n",
       "      <td>3</td>\n",
       "      <td>Material Control</td>\n",
       "      <td>Glassjaw</td>\n",
       "      <td>December 6 2017</td>\n",
       "      <td>On their first album in 15 years, the Long Isl...</td>\n",
       "      <td>6.6</td>\n",
       "    </tr>\n",
       "    <tr>\n",
       "      <th>3</th>\n",
       "      <td>4</td>\n",
       "      <td>Weighing of the Heart</td>\n",
       "      <td>Nabihah Iqbal</td>\n",
       "      <td>December 6 2017</td>\n",
       "      <td>On her debut LP, British producer Nabihah Iqba...</td>\n",
       "      <td>7.7</td>\n",
       "    </tr>\n",
       "    <tr>\n",
       "      <th>4</th>\n",
       "      <td>5</td>\n",
       "      <td>The Visitor</td>\n",
       "      <td>Neil Young / Promise of the Real</td>\n",
       "      <td>December 5 2017</td>\n",
       "      <td>While still pointedly political, Neil Youngís ...</td>\n",
       "      <td>6.7</td>\n",
       "    </tr>\n",
       "  </tbody>\n",
       "</table>\n",
       "</div>"
      ],
      "text/plain": [
       "   review_id             album_name                       artist_name  \\\n",
       "0          1       A.M./Being There                             Wilco   \n",
       "1          2               No Shame                            Hopsin   \n",
       "2          3       Material Control                          Glassjaw   \n",
       "3          4  Weighing of the Heart                     Nabihah Iqbal   \n",
       "4          5            The Visitor  Neil Young / Promise of the Real   \n",
       "\n",
       "       review_date                                     review_content  \\\n",
       "0  December 6 2017  Best new reissue 1 / 2 Albums Newly reissued a...   \n",
       "1  December 6 2017  On his corrosive fifth album, the rapper takes...   \n",
       "2  December 6 2017  On their first album in 15 years, the Long Isl...   \n",
       "3  December 6 2017  On her debut LP, British producer Nabihah Iqba...   \n",
       "4  December 5 2017  While still pointedly political, Neil Youngís ...   \n",
       "\n",
       "   album_score  \n",
       "0          7.0  \n",
       "1          3.5  \n",
       "2          6.6  \n",
       "3          7.7  \n",
       "4          6.7  "
      ]
     },
     "execution_count": 17,
     "metadata": {},
     "output_type": "execute_result"
    }
   ],
   "source": [
    "reviews.head()"
   ]
  },
  {
   "cell_type": "code",
   "execution_count": 18,
   "metadata": {},
   "outputs": [],
   "source": [
    "reviews.to_sql('review', db, index=False, if_exists='replace')"
   ]
  },
  {
   "cell_type": "markdown",
   "metadata": {},
   "source": [
    "Note how the new `review` table has fewer columns -- we no longer have genre. "
   ]
  },
  {
   "cell_type": "markdown",
   "metadata": {},
   "source": [
    "# Use `JOIN` to recreate new raw table"
   ]
  },
  {
   "cell_type": "code",
   "execution_count": 19,
   "metadata": {},
   "outputs": [],
   "source": [
    "sql_combo =  \"\"\"\n",
    "SELECT\n",
    "    review_id, album_name, album.artist_name, genre_name, \n",
    "    album_score, is_best, review_date, review_content\n",
    "FROM review\n",
    "LEFT JOIN album USING(album_name, artist_name)\n",
    "LEFT JOIN artist USING(artist_name)\n",
    "LEFT JOIN genre USING(genre_name)\n",
    "\"\"\"\n",
    "combo = q(sql_combo)"
   ]
  },
  {
   "cell_type": "code",
   "execution_count": 20,
   "metadata": {},
   "outputs": [
    {
     "data": {
      "text/plain": [
       "0"
      ]
     },
     "execution_count": 20,
     "metadata": {},
     "output_type": "execute_result"
    }
   ],
   "source": [
    "reviews.shape[0] - combo.shape[0]"
   ]
  },
  {
   "cell_type": "code",
   "execution_count": 21,
   "metadata": {},
   "outputs": [
    {
     "data": {
      "text/html": [
       "<div>\n",
       "<style scoped>\n",
       "    .dataframe tbody tr th:only-of-type {\n",
       "        vertical-align: middle;\n",
       "    }\n",
       "\n",
       "    .dataframe tbody tr th {\n",
       "        vertical-align: top;\n",
       "    }\n",
       "\n",
       "    .dataframe thead th {\n",
       "        text-align: right;\n",
       "    }\n",
       "</style>\n",
       "<table border=\"1\" class=\"dataframe\">\n",
       "  <thead>\n",
       "    <tr style=\"text-align: right;\">\n",
       "      <th></th>\n",
       "      <th>review_id</th>\n",
       "      <th>album_name</th>\n",
       "      <th>artist_name</th>\n",
       "      <th>genre_name</th>\n",
       "      <th>album_score</th>\n",
       "      <th>is_best</th>\n",
       "      <th>review_date</th>\n",
       "      <th>review_content</th>\n",
       "    </tr>\n",
       "  </thead>\n",
       "  <tbody>\n",
       "    <tr>\n",
       "      <th>0</th>\n",
       "      <td>1</td>\n",
       "      <td>A.M./Being There</td>\n",
       "      <td>Wilco</td>\n",
       "      <td>Rock</td>\n",
       "      <td>7.0</td>\n",
       "      <td>1.0</td>\n",
       "      <td>December 6 2017</td>\n",
       "      <td>Best new reissue 1 / 2 Albums Newly reissued a...</td>\n",
       "    </tr>\n",
       "    <tr>\n",
       "      <th>1</th>\n",
       "      <td>2</td>\n",
       "      <td>No Shame</td>\n",
       "      <td>Hopsin</td>\n",
       "      <td>Rap</td>\n",
       "      <td>3.5</td>\n",
       "      <td>0.0</td>\n",
       "      <td>December 6 2017</td>\n",
       "      <td>On his corrosive fifth album, the rapper takes...</td>\n",
       "    </tr>\n",
       "    <tr>\n",
       "      <th>2</th>\n",
       "      <td>3</td>\n",
       "      <td>Material Control</td>\n",
       "      <td>Glassjaw</td>\n",
       "      <td>Rock</td>\n",
       "      <td>6.6</td>\n",
       "      <td>0.0</td>\n",
       "      <td>December 6 2017</td>\n",
       "      <td>On their first album in 15 years, the Long Isl...</td>\n",
       "    </tr>\n",
       "    <tr>\n",
       "      <th>3</th>\n",
       "      <td>4</td>\n",
       "      <td>Weighing of the Heart</td>\n",
       "      <td>Nabihah Iqbal</td>\n",
       "      <td>Pop/R&amp;B</td>\n",
       "      <td>7.7</td>\n",
       "      <td>0.0</td>\n",
       "      <td>December 6 2017</td>\n",
       "      <td>On her debut LP, British producer Nabihah Iqba...</td>\n",
       "    </tr>\n",
       "    <tr>\n",
       "      <th>4</th>\n",
       "      <td>5</td>\n",
       "      <td>The Visitor</td>\n",
       "      <td>Neil Young / Promise of the Real</td>\n",
       "      <td>Rock</td>\n",
       "      <td>6.7</td>\n",
       "      <td>0.0</td>\n",
       "      <td>December 5 2017</td>\n",
       "      <td>While still pointedly political, Neil Youngís ...</td>\n",
       "    </tr>\n",
       "  </tbody>\n",
       "</table>\n",
       "</div>"
      ],
      "text/plain": [
       "   review_id             album_name                       artist_name  \\\n",
       "0          1       A.M./Being There                             Wilco   \n",
       "1          2               No Shame                            Hopsin   \n",
       "2          3       Material Control                          Glassjaw   \n",
       "3          4  Weighing of the Heart                     Nabihah Iqbal   \n",
       "4          5            The Visitor  Neil Young / Promise of the Real   \n",
       "\n",
       "  genre_name  album_score  is_best      review_date  \\\n",
       "0       Rock          7.0      1.0  December 6 2017   \n",
       "1        Rap          3.5      0.0  December 6 2017   \n",
       "2       Rock          6.6      0.0  December 6 2017   \n",
       "3    Pop/R&B          7.7      0.0  December 6 2017   \n",
       "4       Rock          6.7      0.0  December 5 2017   \n",
       "\n",
       "                                      review_content  \n",
       "0  Best new reissue 1 / 2 Albums Newly reissued a...  \n",
       "1  On his corrosive fifth album, the rapper takes...  \n",
       "2  On their first album in 15 years, the Long Isl...  \n",
       "3  On her debut LP, British producer Nabihah Iqba...  \n",
       "4  While still pointedly political, Neil Youngís ...  "
      ]
     },
     "execution_count": 21,
     "metadata": {},
     "output_type": "execute_result"
    }
   ],
   "source": [
    "combo.sort_index().head() "
   ]
  },
  {
   "cell_type": "markdown",
   "metadata": {},
   "source": [
    "# Create `VIEW` of combo table\n",
    "\n",
    "Since we anticipate using this combo table alot, we create VIEW of it, which is a virtual table. This way, we can add data to our tables and always have an up-to-date view for analytic and display purposes."
   ]
  },
  {
   "cell_type": "code",
   "execution_count": 22,
   "metadata": {},
   "outputs": [],
   "source": [
    "sql_combo_view1 = \"\"\"\n",
    "DROP VIEW IF EXISTS review_combo\n",
    "\"\"\"\n",
    "sql_combo_view2 = \"\"\"\n",
    "CREATE VIEW review_combo AS\n",
    "    SELECT review_id, album_name, artist_name, genre_name, album_score, is_best, review_date, review_content\n",
    "    FROM review\n",
    "    LEFT JOIN album USING (album_name, artist_name)\n",
    "    LEFT JOIN artist USING (artist_name)\n",
    "    LEFT JOIN genre USING (genre_name)\n",
    "\"\"\"\n",
    "db.execute(sql_combo_view1)\n",
    "db.execute(sql_combo_view2)\n",
    "db.commit()"
   ]
  },
  {
   "cell_type": "code",
   "execution_count": 23,
   "metadata": {},
   "outputs": [],
   "source": [
    "combo = q('SELECT * FROM review_combo')"
   ]
  }
 ],
 "metadata": {
  "hide_input": false,
  "kernelspec": {
   "display_name": "Python 3",
   "language": "python",
   "name": "python3"
  },
  "language_info": {
   "codemirror_mode": {
    "name": "ipython",
    "version": 3
   },
   "file_extension": ".py",
   "mimetype": "text/x-python",
   "name": "python",
   "nbconvert_exporter": "python",
   "pygments_lexer": "ipython3",
   "version": "3.6.5"
  },
  "toc": {
   "nav_menu": {},
   "number_sections": true,
   "sideBar": true,
   "skip_h1_title": false,
   "toc_cell": false,
   "toc_position": {
    "height": "689px",
    "left": "0px",
    "right": "958px",
    "top": "111px",
    "width": "322px"
   },
   "toc_section_display": "block",
   "toc_window_display": true
  },
  "varInspector": {
   "cols": {
    "lenName": 16,
    "lenType": 16,
    "lenVar": 40
   },
   "kernels_config": {
    "python": {
     "delete_cmd_postfix": "",
     "delete_cmd_prefix": "del ",
     "library": "var_list.py",
     "varRefreshCmd": "print(var_dic_list())"
    },
    "r": {
     "delete_cmd_postfix": ") ",
     "delete_cmd_prefix": "rm(",
     "library": "var_list.r",
     "varRefreshCmd": "cat(var_dic_list()) "
    }
   },
   "position": {
    "height": "497px",
    "left": "793.636px",
    "right": "20px",
    "top": "120px",
    "width": "289px"
   },
   "types_to_exclude": [
    "module",
    "function",
    "builtin_function_or_method",
    "instance",
    "_Feature"
   ],
   "window_display": false
  }
 },
 "nbformat": 4,
 "nbformat_minor": 4
}
