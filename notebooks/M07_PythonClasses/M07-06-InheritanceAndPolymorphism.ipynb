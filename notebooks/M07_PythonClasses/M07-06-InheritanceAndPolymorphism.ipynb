{
 "cells": [
  {
   "cell_type": "markdown",
   "id": "b03969f7-24a0-4776-b854-4de77b3e21bb",
   "metadata": {},
   "source": [
    "# NB: Inheritance and Polymorphism"
   ]
  },
  {
   "cell_type": "markdown",
   "id": "f666585f-5329-414a-8bc2-13b4d48f568f",
   "metadata": {},
   "source": [
    "# Inheritance"
   ]
  },
  {
   "cell_type": "code",
   "execution_count": null,
   "id": "b5060476-7cba-4aba-934e-c0ce20b4fd59",
   "metadata": {},
   "outputs": [],
   "source": []
  },
  {
   "cell_type": "markdown",
   "id": "f90d342c-0a68-4c3d-9c5b-41deb1c59560",
   "metadata": {},
   "source": [
    "# Polymorphism"
   ]
  },
  {
   "cell_type": "code",
   "execution_count": null,
   "id": "fc8e81be-5753-4daf-ab5d-3fe12262ec24",
   "metadata": {},
   "outputs": [],
   "source": []
  }
 ],
 "metadata": {
  "kernelspec": {
   "display_name": "Python 3 (ipykernel)",
   "language": "python",
   "name": "python3"
  },
  "language_info": {
   "codemirror_mode": {
    "name": "ipython",
    "version": 3
   },
   "file_extension": ".py",
   "mimetype": "text/x-python",
   "name": "python",
   "nbconvert_exporter": "python",
   "pygments_lexer": "ipython3",
   "version": "3.11.3"
  }
 },
 "nbformat": 4,
 "nbformat_minor": 5
}
