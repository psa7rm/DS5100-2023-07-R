{
 "cells": [
  {
   "cell_type": "markdown",
   "metadata": {},
   "source": [
    "# NB&colon; Introducing Classes"
   ]
  },
  {
   "cell_type": "markdown",
   "metadata": {},
   "source": [
    "## Introduction\n",
    "\n",
    "Classes are a way **organizing code** into bundles of variables and functions called **attributes** and **methods**.\n",
    "\n",
    "Each class **models** some thing &mdash; a thing in the world, a process, a model, or just some convenient way of grouping code.\n",
    "\n",
    "For example, a logistic regression model would have attributes like:\n",
    "\n",
    "- weights\n",
    "- an optional intercept term\n",
    "- the maximum number of iterations\n",
    "\n",
    "These attributes help describe the object; they give the object's **state**.\n",
    "\n",
    "The logistic regression model would have **functionality** such as:\n",
    "\n",
    "- the optimization routine used in training\n",
    "- a prediction function\n",
    "\n",
    "The behavior, or functionality, is supported by methods, which are functions included in the class."
   ]
  },
  {
   "cell_type": "markdown",
   "metadata": {},
   "source": [
    "Here are a couple of others way to think of a class:\n",
    "\n",
    "- It provides **a template** for creating an object and for working with the object.\n",
    "- It constitutes a kind of **definition** of something in the world."
   ]
  },
  {
   "cell_type": "markdown",
   "metadata": {},
   "source": [
    "### A First Example \n",
    "\n",
    "Ok, let's look at examples, starting with a very small, simple class.  \n",
    "The class contains:\n",
    "\n",
    "- a name `Ferrari458`\n",
    "- a docstring for a quick description\n",
    "- an attribute, which is number of cylinders in the engine\n",
    "- a method"
   ]
  },
  {
   "cell_type": "code",
   "execution_count": 51,
   "metadata": {
    "tags": [],
    "vscode": {
     "languageId": "python"
    }
   },
   "outputs": [],
   "source": [
    "class Ferrari458:\n",
    "    \"\"\"This is a Ferrari 458 object\"\"\"\n",
    "    cylinders = 8\n",
    "\n",
    "    def print_origin(self):\n",
    "        return 'I was built in Italy!'"
   ]
  },
  {
   "cell_type": "markdown",
   "metadata": {},
   "source": [
    "You can learn about the class by printing the docstring:"
   ]
  },
  {
   "cell_type": "code",
   "execution_count": 40,
   "metadata": {
    "tags": [],
    "vscode": {
     "languageId": "python"
    }
   },
   "outputs": [
    {
     "data": {
      "text/plain": [
       "'This is a Ferrari 458 object'"
      ]
     },
     "execution_count": 40,
     "metadata": {},
     "output_type": "execute_result"
    }
   ],
   "source": [
    "Ferrari458.__doc__"
   ]
  },
  {
   "cell_type": "markdown",
   "metadata": {},
   "source": [
    "You can also get detailed help like this:"
   ]
  },
  {
   "cell_type": "code",
   "execution_count": 41,
   "metadata": {
    "tags": [],
    "vscode": {
     "languageId": "python"
    }
   },
   "outputs": [
    {
     "name": "stdout",
     "output_type": "stream",
     "text": [
      "Help on class Ferrari458 in module __main__:\n",
      "\n",
      "class Ferrari458(builtins.object)\n",
      " |  This is a Ferrari 458 object\n",
      " |  \n",
      " |  Methods defined here:\n",
      " |  \n",
      " |  print_origin(self)\n",
      " |  \n",
      " |  ----------------------------------------------------------------------\n",
      " |  Data descriptors defined here:\n",
      " |  \n",
      " |  __dict__\n",
      " |      dictionary for instance variables (if defined)\n",
      " |  \n",
      " |  __weakref__\n",
      " |      list of weak references to the object (if defined)\n",
      " |  \n",
      " |  ----------------------------------------------------------------------\n",
      " |  Data and other attributes defined here:\n",
      " |  \n",
      " |  cylinders = 8\n",
      "\n"
     ]
    }
   ],
   "source": [
    "help(Ferrari458)"
   ]
  },
  {
   "cell_type": "markdown",
   "metadata": {},
   "source": [
    "Next, we create an object from the class (also called an **instance** of the class).  \n",
    "\n",
    "It is called like a function with no parameters.\n",
    "\n",
    "The process is called **instantiation**."
   ]
  },
  {
   "cell_type": "code",
   "execution_count": 4,
   "metadata": {
    "tags": [],
    "vscode": {
     "languageId": "python"
    }
   },
   "outputs": [],
   "source": [
    "myferrari = Ferrari458()"
   ]
  },
  {
   "cell_type": "markdown",
   "metadata": {},
   "source": [
    "We show the number of cylinders by using the `object.attribute` format:"
   ]
  },
  {
   "cell_type": "code",
   "execution_count": 5,
   "metadata": {
    "tags": [],
    "vscode": {
     "languageId": "python"
    }
   },
   "outputs": [
    {
     "data": {
      "text/plain": [
       "8"
      ]
     },
     "execution_count": 5,
     "metadata": {},
     "output_type": "execute_result"
    }
   ],
   "source": [
    "myferrari.cylinders"
   ]
  },
  {
   "cell_type": "markdown",
   "metadata": {},
   "source": [
    "Then we call its method `.print_origin()` to learn where this sweet machine was built."
   ]
  },
  {
   "cell_type": "code",
   "execution_count": 6,
   "metadata": {
    "tags": [],
    "vscode": {
     "languageId": "python"
    }
   },
   "outputs": [
    {
     "data": {
      "text/plain": [
       "'I was built in Italy!'"
      ]
     },
     "execution_count": 6,
     "metadata": {},
     "output_type": "execute_result"
    }
   ],
   "source": [
    "myferrari.print_origin()"
   ]
  },
  {
   "cell_type": "markdown",
   "metadata": {},
   "source": [
    "As a convention, methods take `self` as their first argument. Methods can use `self.attribute` to extract their attributes.  \n",
    "Here is an example, with method `get_cylinders`."
   ]
  },
  {
   "cell_type": "code",
   "execution_count": 42,
   "metadata": {
    "tags": [],
    "vscode": {
     "languageId": "python"
    }
   },
   "outputs": [],
   "source": [
    "class Ferrari458_v2:\n",
    "    \"\"\"This is a Ferrari 458 object\"\"\"\n",
    "    cylinders = 8\n",
    "\n",
    "    def print_origin(self):\n",
    "        return 'I was built in Italy!'\n",
    "\n",
    "    def get_cylinders(self):\n",
    "        return self.cylinders"
   ]
  },
  {
   "cell_type": "code",
   "execution_count": 61,
   "metadata": {
    "tags": [],
    "vscode": {
     "languageId": "python"
    }
   },
   "outputs": [],
   "source": [
    "myferrari = Ferrari458_v2()"
   ]
  },
  {
   "cell_type": "code",
   "execution_count": 62,
   "metadata": {
    "tags": [],
    "vscode": {
     "languageId": "python"
    }
   },
   "outputs": [
    {
     "data": {
      "text/plain": [
       "8"
      ]
     },
     "execution_count": 62,
     "metadata": {},
     "output_type": "execute_result"
    }
   ],
   "source": [
    "myferrari.get_cylinders()"
   ]
  },
  {
   "cell_type": "markdown",
   "metadata": {},
   "source": [
    "## The  `.__init__()` method\n",
    "\n",
    "There is a special function called `__init__` that will **initialize** the state of objects for you when you create them.\n",
    "\n",
    "Use it to supply more context-dependent information about your instance.\n",
    "\n",
    "Let's look at another version of the class with __init__."
   ]
  },
  {
   "cell_type": "code",
   "execution_count": 53,
   "metadata": {
    "tags": [],
    "vscode": {
     "languageId": "python"
    }
   },
   "outputs": [],
   "source": [
    "class Ferrari458_v3:\n",
    "    \"\"\"this is a Ferrari 458 object\"\"\"\n",
    "    cylinders = 8\n",
    "    \n",
    "    def __init__(self, color):\n",
    "        self.color = color\n",
    "\n",
    "    def print_origin(self):\n",
    "        return 'I was built in Italy!'\n",
    "\n",
    "    def get_color(self):\n",
    "        return self.color"
   ]
  },
  {
   "cell_type": "markdown",
   "metadata": {},
   "source": [
    "By adding the `__init__` function, we can create objects if we pass the number of cylinders.  \n",
    "\n",
    "If we don't pass this parameter, there will be an error.\n",
    "\n",
    "This is because we did not define a default value for the color argument in our initialization method."
   ]
  },
  {
   "cell_type": "code",
   "execution_count": 54,
   "metadata": {
    "tags": [],
    "vscode": {
     "languageId": "python"
    }
   },
   "outputs": [
    {
     "ename": "TypeError",
     "evalue": "Ferrari458_v3.__init__() missing 1 required positional argument: 'color'",
     "output_type": "error",
     "traceback": [
      "\u001b[0;31m---------------------------------------------------------------------------\u001b[0m",
      "\u001b[0;31mTypeError\u001b[0m                                 Traceback (most recent call last)",
      "Cell \u001b[0;32mIn[54], line 1\u001b[0m\n\u001b[0;32m----> 1\u001b[0m ferr1 \u001b[38;5;241m=\u001b[39m Ferrari458_v3()\n",
      "\u001b[0;31mTypeError\u001b[0m: Ferrari458_v3.__init__() missing 1 required positional argument: 'color'"
     ]
    }
   ],
   "source": [
    "ferr1 = Ferrari458_v3()"
   ]
  },
  {
   "cell_type": "markdown",
   "metadata": {},
   "source": [
    "This works:"
   ]
  },
  {
   "cell_type": "code",
   "execution_count": 55,
   "metadata": {
    "tags": [],
    "vscode": {
     "languageId": "python"
    }
   },
   "outputs": [],
   "source": [
    "ferr1 = Ferrari458_v3(\"red\")"
   ]
  },
  {
   "cell_type": "markdown",
   "metadata": {},
   "source": [
    "We can access the initialized attribute using the dot operator, just as if it were declared at the top of the class:"
   ]
  },
  {
   "cell_type": "code",
   "execution_count": 56,
   "metadata": {
    "tags": [],
    "vscode": {
     "languageId": "python"
    }
   },
   "outputs": [
    {
     "data": {
      "text/plain": [
       "'red'"
      ]
     },
     "execution_count": 56,
     "metadata": {},
     "output_type": "execute_result"
    }
   ],
   "source": [
    "ferr1.color"
   ]
  },
  {
   "cell_type": "markdown",
   "metadata": {},
   "source": [
    "Or we can call the accessor method that we created."
   ]
  },
  {
   "cell_type": "code",
   "execution_count": 57,
   "metadata": {
    "tags": [],
    "vscode": {
     "languageId": "python"
    }
   },
   "outputs": [
    {
     "data": {
      "text/plain": [
       "'red'"
      ]
     },
     "execution_count": 57,
     "metadata": {},
     "output_type": "execute_result"
    }
   ],
   "source": [
    "ferr1.get_color()"
   ]
  },
  {
   "cell_type": "markdown",
   "metadata": {},
   "source": [
    "Note that even though we initialized the car object with \"red\", we can always change it:"
   ]
  },
  {
   "cell_type": "code",
   "execution_count": 58,
   "metadata": {
    "tags": [],
    "vscode": {
     "languageId": "python"
    }
   },
   "outputs": [],
   "source": [
    "ferr1.color = \"Cobalt\""
   ]
  },
  {
   "cell_type": "code",
   "execution_count": 59,
   "metadata": {
    "tags": [],
    "vscode": {
     "languageId": "python"
    }
   },
   "outputs": [
    {
     "data": {
      "text/plain": [
       "'Cobalt'"
      ]
     },
     "execution_count": 59,
     "metadata": {},
     "output_type": "execute_result"
    }
   ],
   "source": [
    "ferr1.get_color()"
   ]
  },
  {
   "cell_type": "markdown",
   "metadata": {},
   "source": [
    "## The Meaning of `self`\n",
    "\n",
    "Note the presence of an argument and variable called **`self` in the method definitions**. \n",
    "- This stands for the intantiated object itself. \n",
    "\n",
    "So, when you create an object like so:\n",
    "\n",
    "```python\n",
    "foo = Foo()\n",
    "```\n",
    "- `foo` is represented in the class definition as `self`.\n",
    "\n",
    "If you want your method to access the other attributes and methods in an object, **you need to put self as its first argument**.\n",
    "- Note that when you use the method with an instance, you don't pass the object name as an argument\n",
    "- The object name is passed implicitly by Python, since it knows which object called the methid\n",
    "\n",
    "\n",
    "You can use any valid name you want for the name of the object itself, but the convention is to use `self`.\n",
    "\n",
    "Note that `self` is **only used within the methods** of a class, not outside of it. \n",
    "- Like functions, they don't know what's outside of them, nor does the containing code know what's inside of them.\n",
    "- The `self` variable is the mechanism that allows methods to share data without having to pass and return a bunch of variables.\n",
    "\n",
    "Think of `self` as a **data structure that stores the program itself**\n",
    "- In this sense, it's similar to **recursion**: A class definition contains a reference to itself!\n",
    "- But remember, the class definition is not a thing -- it's a template.\n",
    "- `self` is just a pronoun that allows an instance to access it's own state."
   ]
  },
  {
   "cell_type": "markdown",
   "metadata": {
    "tags": []
   },
   "source": [
    "## Summary\n",
    "\n",
    "An **cobject** is a self-contained bundle of **methods and attributes**.\n",
    "* Methods are basically functions.\n",
    "* Attributes are basically variables.\n",
    "\n",
    "A **class** definition is a **template** for creating objects.\n",
    "* Objects are **class instances**. \n",
    "* Classes are **onbject types**.\n",
    "\n",
    "Objects have **their own scope**, like functions.\n",
    "* They are meant to **exchange information** with their environment only through accessing attributes and calling methods\n",
    "\n",
    "When objects are first created, **they often expect to have data passed to them**.\n",
    "* This is called **initializing** the object.\n",
    "* These data are handled internally by the `.__init__()` method. \n",
    "* Data that are passed this way can be **overridden** by accessing the attributes they assigned to.\n",
    "\n",
    "The methods of a class begin with `self` as the first argument.\n",
    "* This stands for **the instance itself**.\n",
    "* **All methods and attributes are avaible** to all other methods in the object **through the `self` object**.\n",
    "\n",
    "If a method does not have `self` as its first argument, it cannot access the internal state or methods of the object.\n",
    "* The internal state is just the attributes and their current values.\n",
    "* These are called **static** methods.\n",
    "* Static methods are useful in providing functions to the environment in which their containing object is instantiated.\n",
    "\n",
    "**There is a lot more to the subject, but this is good enough to get started!**"
   ]
  },
  {
   "cell_type": "code",
   "execution_count": null,
   "metadata": {},
   "outputs": [],
   "source": []
  }
 ],
 "metadata": {
  "kernelspec": {
   "display_name": "Python 3 (ipykernel)",
   "language": "python",
   "name": "python3"
  },
  "language_info": {
   "codemirror_mode": {
    "name": "ipython",
    "version": 3
   },
   "file_extension": ".py",
   "mimetype": "text/x-python",
   "name": "python",
   "nbconvert_exporter": "python",
   "pygments_lexer": "ipython3",
   "version": "3.11.3"
  }
 },
 "nbformat": 4,
 "nbformat_minor": 4
}
